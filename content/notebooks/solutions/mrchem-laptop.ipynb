{
 "cells": [
  {
   "cell_type": "markdown",
   "id": "fc72ebff",
   "metadata": {},
   "source": [
    "# Solutions to Exercise 1\n",
    "\n",
    "[<img src=\"https://img.shields.io/badge/Documentation-Main_Page-orange.svg?logo=LOGO\">](https://mrchem.readthedocs.io/en/latest/)\n",
    "[<img src=\"https://img.shields.io/badge/I_Need_Help-Installation-teal.svg?logo=LOGO\">](https://mrchem.readthedocs.io/en/latest/installation.html)\n",
    "[<img src=\"https://img.shields.io/badge/I_Need_Help-How_To_Run-green.svg?logo=LOGO\">](https://mrchem.readthedocs.io/en/latest/users/running.html)\n",
    "[<img src=\"https://img.shields.io/badge/I_Need_Help-Input_Quick_Guide-blue.svg?logo=LOGO\">](https://mrchem.readthedocs.io/en/latest/users/user_inp.html)\n",
    "[<img src=\"https://img.shields.io/badge/I_Need_Help-Input_Reference-purple.svg?logo=LOGO\">](https://mrchem.readthedocs.io/en/latest/users/user_ref.html)\n",
    "[<img src=\"https://img.shields.io/badge/I_Need_Help-JSON_Output-red.svg?logo=LOGO\">](https://mrchem.readthedocs.io/en/latest/users/program_json.html)\n",
    "\n",
    "The code cells below show how to set up an energy calculation on the water molecule, and run the calculation from within the notebook."
   ]
  },
  {
   "cell_type": "code",
   "execution_count": 1,
   "id": "944a3f6f",
   "metadata": {},
   "outputs": [],
   "source": [
    "import os\n",
    "import sys\n",
    "import json\n",
    "import time\n",
    "import shutil\n",
    "import subprocess\n",
    "import pandas as pd\n",
    "import matplotlib.pyplot as plt\n",
    "\n",
    "ROOT = os.path.dirname(os.path.abspath(''))\n",
    "SOLUTIONS = os.path.join(ROOT, 'solutions')\n",
    "sys.path.append(ROOT)\n",
    "\n",
    "from utils.functions import MRChemOutput"
   ]
  },
  {
   "cell_type": "markdown",
   "id": "7b87ce5a-1f7c-4d58-947c-b46e490947d2",
   "metadata": {},
   "source": [
    "## Define some useful functions"
   ]
  },
  {
   "cell_type": "code",
   "execution_count": 2,
   "id": "3852c753-42b6-46c5-8004-f1164baeca2d",
   "metadata": {},
   "outputs": [],
   "source": [
    "def readCoords(f):\n",
    "    \"\"\"Read XYZ file and return as MRChem JSON friendly string.\"\"\"\n",
    "    with open(f) as file:\n",
    "        return '\\n'.join([line.strip() for line in file.readlines()[2:]])\n",
    "\n",
    "def makeInput(world_prec=None, xyzfile=None, fname=None):\n",
    "    \"\"\"Write MRChem JSON input file.\"\"\"\n",
    "    i = {\n",
    "        'world_prec': world_prec,\n",
    "        'world_unit': 'angstrom',\n",
    "        'Molecule': {\n",
    "            'charge': 0,\n",
    "            'multiplicity': 1,\n",
    "            'translate': True,\n",
    "            'coords': readCoords(xyzfile)\n",
    "        },\n",
    "        'WaveFunction': {\n",
    "            'method': 'pbe', \n",
    "            'restricted': True\n",
    "        },\n",
    "        'SCF': {\n",
    "            'guess_type': 'sad_dz',\n",
    "            'guess_prec': 1e-4,\n",
    "            'kain': 5,\n",
    "            'write_orbitals': True,\n",
    "            'localize': True,\n",
    "            'max_iter': 20\n",
    "        }\n",
    "    }\n",
    "    \n",
    "    with open(fname+'.inp', 'w') as f:\n",
    "        json.dump(i, f, indent=2)\n",
    "\n",
    "def submit(nprocs=None, dest=None, inputfile=None):\n",
    "    \"\"\"Make calc dir, copy move inputfile, and start the calculation.\"\"\"\n",
    "    # Check if all arguments given\n",
    "    assert not any([nprocs is None, dest is None, inputfile is None]), 'Missing arguments'\n",
    "    \n",
    "    # Make calc dir\n",
    "    if os.path.exists(dest):\n",
    "        shutil.rmtree(dest)\n",
    "    os.makedirs(dest)\n",
    "        \n",
    "    # Check if input file exists\n",
    "    if not os.path.exists(inputfile):\n",
    "        print(f'Error: Input file <{inputfile}> not found')\n",
    "        return\n",
    "    \n",
    "    shutil.move(inputfile, os.path.join(dest, inputfile))\n",
    "    os.chdir(dest)\n",
    "    os.environ['OMP_NUM_THREADS'] = str(nprocs)\n",
    "    subprocess.call(['mrchem', '--json',  inputfile])\n",
    "    os.chdir(SOLUTIONS)"
   ]
  },
  {
   "cell_type": "markdown",
   "id": "16ddb898-da8b-468a-956b-3a47ce5b3d01",
   "metadata": {},
   "source": [
    "## Loop over the precisions and run calculations\n",
    "\n",
    "**ProTip**: You could save some time by reusing the MW3 orbitals as starting guess for the higher precision jobs. How to do this is explained in the documentation:\n",
    "\n",
    "[<img src=\"https://img.shields.io/badge/I_Need_Help-MW_Initial_Guess-red.svg?logo=LOGO\">](https://mrchem.readthedocs.io/en/latest/users/user_inp.html#write-orbitals)"
   ]
  },
  {
   "cell_type": "code",
   "execution_count": 3,
   "id": "3190682e-a75a-4204-9c6a-b620aac10d60",
   "metadata": {},
   "outputs": [
    {
     "name": "stdout",
     "output_type": "stream",
     "text": [
      "MW3\n",
      "   >>> Finished after 1.0 seconds\n",
      "MW4\n",
      "   >>> Finished after 4.0 seconds\n",
      "MW5\n",
      "   >>> Finished after 9.0 seconds\n"
     ]
    }
   ],
   "source": [
    "# Uncomment the makeInput and submit commands\n",
    "# and delete the time.sleep command to run the calculations\n",
    "precisions = {'mw3': 1e-3, 'mw4': 1e-4, 'mw5': 1e-5}\n",
    "\n",
    "mw_results = {}\n",
    "for i, (label, prec) in enumerate(precisions.items()):\n",
    "    print(label.upper())\n",
    "    jobname = f'water_{prec}'\n",
    "    dest = os.path.join(SOLUTIONS, jobname+'_calc')\n",
    "    xyzfile = '../geometries/water.xyz'\n",
    "\n",
    "    t0 = time.time()\n",
    "    # makeInput(world_prec=prec, xyzfile=xyzfile, fname=jobname)\n",
    "    # submit(nprocs=6, dest=dest, inputfile=jobname+'.inp')\n",
    "    time.sleep((i+1)**2)\n",
    "    t1 = time.time()\n",
    "        \n",
    "    print(f'   >>> Finished after {t1-t0:.1f} seconds')"
   ]
  },
  {
   "cell_type": "markdown",
   "id": "418c9f7a-fc10-449d-afe1-b5ffb41aaf8d",
   "metadata": {},
   "source": [
    "## Print total energies and plot the SCF convergence for each job"
   ]
  },
  {
   "cell_type": "code",
   "execution_count": 4,
   "id": "91917cc1-0b6d-4e4a-8afd-32a0d5dbe7b9",
   "metadata": {},
   "outputs": [],
   "source": [
    "base = 'water'\n",
    "precisions = {'mw3': 1e-3, 'mw4': 1e-4, 'mw5': 1e-5}\n",
    "\n",
    "mw_data = []\n",
    "for label, prec in precisions.items():\n",
    "    f = os.path.join(f'{base}_{prec}_calc', f'{base}_{prec}.json')\n",
    "    calc = MRChemOutput(f)\n",
    "    mw_data.append((label, calc.getFinalSCFEnergy()))\n",
    "    \n",
    "    #calc.plotSCFConvergence()"
   ]
  },
  {
   "cell_type": "markdown",
   "id": "4638f283-57eb-4345-911e-3490b56efd77",
   "metadata": {},
   "source": [
    "## Compare to GTOs"
   ]
  },
  {
   "cell_type": "code",
   "execution_count": 5,
   "id": "fac036d5-8cde-4d20-b236-c8f8da66a682",
   "metadata": {},
   "outputs": [
    {
     "data": {
      "text/plain": [
       "<BarContainer object of 6 artists>"
      ]
     },
     "execution_count": 5,
     "metadata": {},
     "output_type": "execute_result"
    },
    {
     "data": {
      "image/png": "[encoded data removed]",
      "text/plain": [
       "<Figure size 600x400 with 1 Axes>"
      ]
     },
     "metadata": {
      "needs_background": "light"
     },
     "output_type": "display_data"
    }
   ],
   "source": [
    "# Make DataFrame\n",
    "gto_data = [\n",
    "    ('dz', -76.337833062097),\n",
    "    ('tz', -76.384930572433),\n",
    "    ('qz', -76.388407845518),\n",
    "    ('5z', -76.388593505849)\n",
    "]\n",
    "\n",
    "df = pd.DataFrame(gto_data+mw_data, columns=['Basis', 'Energy'])\n",
    "ref = df.loc[df.Basis == 'mw5']['Energy'].values[0]\n",
    "df['Error'] = df['Energy'] - ref\n",
    "df.drop(df.loc[df.Basis == 'mw5'].index, inplace=True)\n",
    "\n",
    "# Plot\n",
    "fig, ax = plt.subplots(dpi=100)\n",
    "ax.set_yscale('log')\n",
    "ax.set_ylabel('Basis set error (a.u.)')\n",
    "\n",
    "ax.bar(df.Basis.str.upper(), df.Error, edgecolor='black', color='salmon', lw=3)"
   ]
  },
  {
   "cell_type": "code",
   "execution_count": null,
   "id": "f4c92049-cd52-4c03-b0ce-7baebaa3f7da",
   "metadata": {},
   "outputs": [],
   "source": []
  }
 ],
 "metadata": {
  "kernelspec": {
   "display_name": "Python 3 (ipykernel)",
   "language": "python",
   "name": "python3"
  },
  "language_info": {
   "codemirror_mode": {
    "name": "ipython",
    "version": 3
   },
   "file_extension": ".py",
   "mimetype": "text/x-python",
   "name": "python",
   "nbconvert_exporter": "python",
   "pygments_lexer": "ipython3",
   "version": "3.8.12"
  }
 },
 "nbformat": 4,
 "nbformat_minor": 5
}

{
 "cells": [
  {
   "cell_type": "markdown",
   "id": "b1514b09",
   "metadata": {},
   "source": [
    "# V2: SCF optimization with VAMPyR"
   ]
  },
  {
   "cell_type": "markdown",
   "id": "c76e39cd",
   "metadata": {},
   "source": [
    "## V2.1: Hydrogen atom\n",
    "\n",
    "In order to solve the one-electron Schr\\\"{o}dinger equation in MWs we reformulate them in an integral form [1].\n",
    "\n",
    "\\begin{equation}\n",
    " \\phi = -2\\hat{G}_{\\mu}\\hat{V}\\phi\n",
    "\\end{equation}\n",
    "\n",
    "Where $\\hat{V}$ is the potential acting on the system, $\\phi$ is the wavefunction, $\\hat{G}$ is the Helmholtz integral operator, where its kernel is defined as $G_\\mu(r - r') = \\frac{\\exp(-\\mu |r - r'|)}{4\\pi |r - r'|}$\n",
    "and $\\mu$ is a parameter defined above through the energy."
   ]
  },
  {
   "cell_type": "markdown",
   "id": "2c8a3f14-a1ad-44cb-b389-a9a9219991d2",
   "metadata": {},
   "source": [
    "The Helmholtz operator is already implemented in vampyr, therefore the only things you need are the integral KS equation and the definition of $\\mu$ \n",
    "\n",
    "\\begin{equation}\n",
    "     \\mu = \\sqrt{-2E}\n",
    "\\end{equation}\n",
    "\n",
    "The way you initialize the Helmholtz operator is as follows\n",
    "```\n",
    "H = vp.HelmholtzOperator( mra, exp=mu, prec=eps )\n",
    "```\n",
    "where `mu` is the $\\mu$ is the parameter defined above, mra you have seen before, and `eps` is the desired threshold precision. This operator is applied the same way you applied the vp.ScalingProjector earlier."
   ]
  },
  {
   "cell_type": "markdown",
   "id": "99991cd9-067c-40f9-92fd-d95f11a836be",
   "metadata": {},
   "source": [
    "In this exercise you will be solving the KS equation iteratively for a simple system, the Hydrogen atom. This means that you only have the nuclear potential to take into account for the potential term in the KS equation.\n",
    "\n",
    "\\begin{align}\n",
    "    V_{nuc}(\\mathbf{r}) = -\\frac{1}{|\\mathbf{r}|}\n",
    "\\end{align}\n",
    "\n",
    "We will also be working with a single orbital, of which the initial guess is\n",
    "\n",
    "\\begin{align}\n",
    "    \\phi_0(\\mathbf{r}) = e^{-|\\mathbf{r}|^2}\n",
    "\\end{align}\n",
    "where \n",
    "\\begin{align}\n",
    "    |\\mathbf{r}| = \\sqrt{x^2 + y^2 + z^2}\n",
    "\\end{align}"
   ]
  },
  {
   "cell_type": "markdown",
   "id": "46e63643-4164-49b4-8b6f-3fa0b0f57502",
   "metadata": {},
   "source": [
    "The orbital update is defined as follows\n",
    "\\begin{align}\n",
    "    \\Delta\\tilde{\\phi}^n &= -2\\hat{G}[V_{nuc}\\phi^n] - \\phi^n \\\\\n",
    "    \\Delta\\tilde{\\phi}^n &= \\tilde{\\phi}^{n+1} - \\phi^n\n",
    "\\end{align}\n",
    "where we use \\~ to denote a function that is **not** normalized, and $n$ is the iteration index."
   ]
  },
  {
   "cell_type": "markdown",
   "id": "d6fd6f0c-3abc-4504-a1b5-bc869343f806",
   "metadata": {},
   "source": [
    "What you need to do in this exercise is\n",
    "1. Make a nuclear potential as a python function\n",
    "2. Make an initial guess for the orbital as a python function (hint use `np.exp` )\n",
    "3. Create a Helmholtz operator with $\\mu$ as shown above, use the exact value of $\\epsilon$ for a hydrogen atom ($-0.5$ A.U.)\n",
    "4. Project both nuclear potential and orbital through vampyr\n",
    "5. Compute new orbital through application of the Helmholtz operator\n",
    "6. Compute the size of the orbital update $||\\tilde{\\phi}^{n+1} - \\phi^n||$\n",
    "7. Normalize the orbital $\\phi^{n+1} = \\tilde{\\phi}^{n+1}/||\\tilde{\\phi}^{n+1}||$\n",
    "8. Update orbital $\\phi^{n+1} \\rightarrow \\phi^{n}$ for next iteration\n",
    "9. Repeat steps 5-8 until your orbital energies have converged\n",
    "\n",
    "The convergence criterion is the norm of $\\Delta \\phi^n$, but you should start by looping a set amount of times before trying the threshold."
   ]
  },
  {
   "cell_type": "code",
   "execution_count": null,
   "id": "570a1e96-31f5-4591-b4d0-e920f26497b6",
   "metadata": {},
   "outputs": [],
   "source": [
    "from vampyr import vampyr3d as vp\n",
    "import numpy as np\n",
    "import matplotlib.pyplot as plt\n",
    "\n",
    "r_x = np.linspace(-0.99, 0.99, 1000) # create an evenly spaced set of points between -0.99 and 0.99\n",
    "r_y = np.zeros(1000)\n",
    "r_z = np.zeros(1000)\n",
    "r = [r_x, r_y, r_z]\n",
    "\n",
    "# Analytic nuclear potential\n",
    "def f_nuc(r):\n",
    "    R = np.sqrt(r[0]*r[0] + r[1]*r[1] + r[2]*r[2])\n",
    "    return -1.0 / R\n",
    "\n",
    "# Analytic guess for solution\n",
    "def f_phi(r):\n",
    "    R = np.sqrt(r[0]*r[0] + r[1]*r[1] + r[2]*r[2])\n",
    "    return np.exp(-R*R)\n",
    "\n",
    "\n",
    "# Global parameters\n",
    "k = 7                        # Polynomial order\n",
    "L = [-20,20]                 # Simulation box size\n",
    "epsilon = 1.0e-4             # Relative precision\n",
    "\n",
    "# Define MRA and multiwavelet projector\n",
    "MRA = vp.MultiResolutionAnalysis(order=k, box=L)\n",
    "P_eps = vp.ScalingProjector(mra=MRA, prec=epsilon)\n",
    "\n",
    "# Project analytic nuclear potential\n",
    "V_nuc = P_eps(f_nuc)\n",
    "\n",
    "# Initial guess for the wavefunction\n",
    "phi_n = P_eps(f_phi)\n",
    "phi_n.normalize()\n",
    "\n",
    "# Prepare Helmholtz operator\n",
    "E = -0.5\n",
    "mu = np.sqrt(-2*E)\n",
    "H = vp.HelmholtzOperator(mra=MRA, exp=mu, prec=epsilon)\n",
    "    \n",
    "# Minimization loop\n",
    "thrs = 1.0e-3\n",
    "update = 1.0\n",
    "i = 0\n",
    "while (update > thrs):\n",
    "    # Apply Helmholtz operator\n",
    "    Vphi = V_nuc * phi_n\n",
    "    phi_np1 = -2*H(Vphi)\n",
    "    norm = phi_np1.norm()\n",
    "    \n",
    "    # Compute orbital and energy updates\n",
    "    dPhi_n = phi_np1 - phi_n\n",
    "    update = dPhi_n.norm()\n",
    "    \n",
    "    # Prepare for next iteration\n",
    "    phi_n = phi_np1\n",
    "    phi_n.normalize()\n",
    "    phi_n.crop(epsilon)  # Truncate MW exansion based on precision\n",
    "    \n",
    "    phi_n_plt = [phi_n([x, 0.0, 0.0]) for x in r_x]\n",
    "    plt.plot(r_x, phi_n_plt)\n",
    "    \n",
    "    print(\"iteration: {}    Norm: {}   Update: {}\".format(i, norm, update))\n",
    "    i += 1\n",
    "\n",
    "plt.show()"
   ]
  },
  {
   "cell_type": "markdown",
   "id": "6c1ffdaa-1b56-40c0-96e4-cb8801296789",
   "metadata": {},
   "source": [
    "I don't know if I want to add more than this right now"
   ]
  },
  {
   "cell_type": "markdown",
   "id": "6339d417-cbd8-48fc-ac77-3f657043b133",
   "metadata": {},
   "source": [
    "\n",
    "## 4 Sources\n",
    "\n",
    "\n",
    "[1] Stig Rune Jensen, Santanu Saha, José A. Flores-Livas, William Huhn, Volker Blum, Stefan Goedecker, and Luca Frediani The Elephant in the Room of Density Functional Theory Calculations. The Journal of Physical Chemistry Letters 2017 8 (7), 1449-1457\n",
    "DOI: 10.1021/acs.jpclett.7b00255\n"
   ]
  },
  {
   "cell_type": "code",
   "execution_count": null,
   "id": "5f7a09a9-8d70-4898-a251-58705d5b36b9",
   "metadata": {},
   "outputs": [],
   "source": []
  }
 ],
 "metadata": {
  "kernelspec": {
   "display_name": "Python 3 (ipykernel)",
   "language": "python",
   "name": "python3"
  },
  "language_info": {
   "codemirror_mode": {
    "name": "ipython",
    "version": 3
   },
   "file_extension": ".py",
   "mimetype": "text/x-python",
   "name": "python",
   "nbconvert_exporter": "python",
   "pygments_lexer": "ipython3",
   "version": "3.8.12"
  }
 },
 "nbformat": 4,
 "nbformat_minor": 5
}

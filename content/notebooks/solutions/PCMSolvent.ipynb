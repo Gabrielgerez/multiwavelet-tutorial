{
 "cells": [
  {
   "cell_type": "code",
   "execution_count": 1,
   "id": "cbb20271-50cc-4ad7-92fe-0889e06c44b4",
   "metadata": {},
   "outputs": [],
   "source": [
    "from vampyr import vampyr3d as vp\n",
    "import numpy as np\n",
    "import matplotlib.pyplot as plt\n",
    "from scipy.special import erf"
   ]
  },
  {
   "cell_type": "code",
   "execution_count": 2,
   "id": "53f22d33-1370-4cdd-9d5f-178090733f54",
   "metadata": {},
   "outputs": [],
   "source": [
    "r_x = np.linspace(-4.0, 4.0, 1000) # create an evenly spaced set of points between -0.99 and 0.99\n",
    "r_y = np.zeros(1000)\n",
    "r_z = np.zeros(1000)\n",
    "r = [r_x, r_y, r_z]"
   ]
  },
  {
   "cell_type": "code",
   "execution_count": 3,
   "id": "6c5dfbb4-5dfd-4065-86d1-7e1574a1ab25",
   "metadata": {},
   "outputs": [],
   "source": [
    "class Cavity(object):\n",
    "    def __init__(self, cav_coords, radii, width):\n",
    "        self.r_list = cav_coords # list of cavity centers. Normally, but not always, nucleus coordinates. \n",
    "        self.R_list = radii  # list of cavity radii. Normally, but not always, nucleus radii.\n",
    "        self.sigma = width  # width of the cavity boundary\n",
    "   \n",
    "\n",
    "    def __call__(self,  r):\n",
    "        \"\"\"\n",
    "        r is a list of floats of length 3, can be a numpy array as well\n",
    "        \"\"\"\n",
    "        r_vec = np.array(r)\n",
    "        C = 1.0\n",
    "        for i, r_i in enumerate(self.r_list):\n",
    "            r_vec_i = np.array(r_i)\n",
    "            s_i = np.linalg.norm(r_vec_i - r_vec) - self.R_list[i]\n",
    "            O_i = (1.0/2.0)*(1 + erf(s_i/self.sigma))\n",
    "            C_i = 1 - O_i\n",
    "            C *= 1 - C_i\n",
    "        C = 1.0 - C\n",
    "        return C\n",
    "\n",
    "    \n",
    "class lin_permittivity():\n",
    "    def __init__(self, cavity, e_0=1.0, e_inf=2.0):\n",
    "        \n",
    "        self.C = cavity\n",
    "        self.eps_0 = e_0 # permittivity of free space\n",
    "        self.eps_inf = e_inf # permittivity of solvent\n",
    "    \n",
    "    \n",
    "    def __call__(self, r):\n",
    "        C_eval = self.C(r)\n",
    "        permittivity = C_eval*(self.eps_0 - self.eps_inf) + self.eps_inf\n",
    "    \n",
    "        return permittivity\n",
    "\n",
    "\n",
    "class exp_permittivity():\n",
    "    def __init__(self, cavity, e_0=1.0, e_inf=2.0):\n",
    "        \n",
    "        self.C = cavity\n",
    "        self.eps_0 = e_0 # permittivity of free space\n",
    "        self.eps_inf = e_inf # permittivity of solvent\n",
    "    \n",
    "    \n",
    "    def __call__(self, r):\n",
    "        C_eval = self.C(r)\n",
    "        permittivity = self.eps_0*np.exp((np.log((self.eps_inf/self.eps_0)))*(1.0 - C_eval))\n",
    "    \n",
    "        return permittivity"
   ]
  },
  {
   "cell_type": "code",
   "execution_count": 4,
   "id": "dac90a70-e64a-4b4f-b534-2e3a719f82f3",
   "metadata": {},
   "outputs": [],
   "source": [
    "# Analytic nuclear potential\n",
    "def f_nuc(r):\n",
    "    R = np.sqrt(r[0]*r[0] + r[1]*r[1] + r[2]*r[2])\n",
    "    return -1.0 / R\n",
    "\n",
    "# Analytic guess for solution\n",
    "def f_phi(r):\n",
    "    \n",
    "    R = np.sqrt(r[0]*r[0] + r[1]*r[1] + r[2]*r[2])\n",
    "    return np.exp(-R*R)"
   ]
  },
  {
   "cell_type": "code",
   "execution_count": 5,
   "id": "0eec71d4-7645-4b76-a18b-efa2021ed312",
   "metadata": {},
   "outputs": [],
   "source": [
    "# Global parameters\n",
    "k = 7                        # Polynomial order\n",
    "L = [-20,20]                 # Simulation box size\n",
    "epsilon = 1.0e-6             # Relative precision\n",
    "\n",
    "# Define MRA and multiwavelet projector\n",
    "MRA = vp.MultiResolutionAnalysis(order=k, box=L)\n",
    "P_eps = vp.ScalingProjector(mra=MRA, prec=epsilon)\n",
    "D_abgv = vp.ABGVDerivative(mra=MRA, a=0.0, b=0.0)\n",
    "Poissop = vp.PoissonOperator(mra=MRA, prec=epsilon)"
   ]
  },
  {
   "cell_type": "code",
   "execution_count": 6,
   "id": "980ef0ac-d6c8-4dee-80d5-f6aae3c7b5b2",
   "metadata": {},
   "outputs": [],
   "source": [
    "# Project analytic nuclear potential\n",
    "V_nuc = P_eps(f_nuc)\n",
    "\n",
    "# Initial guess for energy and orbital\n",
    "E_n = -0.5\n",
    "phi_n = P_eps(f_phi)\n",
    "phi_n.normalize()\n",
    "phi_n *= -1.0"
   ]
  },
  {
   "cell_type": "code",
   "execution_count": 7,
   "id": "fe518ff3-5576-4060-8821-86b2cea10bdc",
   "metadata": {},
   "outputs": [],
   "source": [
    "alpha = 10000\n",
    "beta = (alpha / np.pi)**(3.0/2.0)\n",
    "nuc_dens = P_eps(vp.GaussFunc(coef=beta, exp=alpha))"
   ]
  },
  {
   "cell_type": "code",
   "execution_count": 8,
   "id": "6bc066c1-9b6a-43e4-bb0f-2e22c6d31a49",
   "metadata": {},
   "outputs": [],
   "source": [
    "rho = nuc_dens + phi_n**2"
   ]
  },
  {
   "cell_type": "code",
   "execution_count": 9,
   "id": "2e6f47f6-1287-424f-ae96-48d53dcd25d7",
   "metadata": {},
   "outputs": [
    {
     "data": {
      "image/png": "[encoded data removed]",
      "text/plain": [
       "<Figure size 432x288 with 1 Axes>"
      ]
     },
     "metadata": {
      "needs_background": "light"
     },
     "output_type": "display_data"
    }
   ],
   "source": [
    "rho_eval = [rho([x, 0.0, 0.0]) for x in r_x]\n",
    "phi_eval = [phi_n([x, 0.0, 0.0]) for x in r_x]\n",
    "nuc_dens_eval = [nuc_dens([x, 0.0, 0.0]) for x in r_x]\n",
    "plt.plot(r_x, phi_eval, \"r\")\n",
    "plt.plot(r_x, nuc_dens_eval, \"b\")\n",
    "plt.plot(r_x, rho_eval, \"g\")\n",
    "plt.show()"
   ]
  },
  {
   "cell_type": "code",
   "execution_count": 10,
   "id": "7215027e-a7b4-4b8c-813b-81a2227a5afe",
   "metadata": {},
   "outputs": [],
   "source": [
    "coords = [[0.0, 0.0, 0.0]] #centered in \n",
    "radii = [2.0598013276]  \n",
    "width = 0.2\n",
    "\n",
    "C = Cavity(coords, radii, width)\n",
    "lin_perm = lin_permittivity(C)\n",
    "exp_perm = exp_permittivity(C)\n",
    "\n",
    "lin_perm_tree = P_eps(lin_perm)\n",
    "exp_perm_tree = P_eps(exp_perm)"
   ]
  },
  {
   "cell_type": "code",
   "execution_count": 11,
   "id": "61550f20-7b85-45d9-981b-0721082f25fa",
   "metadata": {
    "tags": []
   },
   "outputs": [
    {
     "data": {
      "image/png": "[encoded data removed]",
      "text/plain": [
       "<Figure size 432x288 with 1 Axes>"
      ]
     },
     "metadata": {
      "needs_background": "light"
     },
     "output_type": "display_data"
    }
   ],
   "source": [
    "C_eval = [C([x, 0.0, 0.0]) for x in r_x]\n",
    "eps_eval = [lin_perm([x, 0.0, 0.0]) for x in r_x]\n",
    "plt.plot(r_x, C_eval)\n",
    "plt.plot(r_x, eps_eval)\n",
    "plt.show()"
   ]
  },
  {
   "cell_type": "code",
   "execution_count": 12,
   "id": "3042bfc7-d849-4221-af0d-2114aa722159",
   "metadata": {},
   "outputs": [],
   "source": [
    "U_vac = Poissop(rho)"
   ]
  },
  {
   "cell_type": "code",
   "execution_count": 13,
   "id": "1d04c36a-ea03-4028-9024-4bec105808f0",
   "metadata": {},
   "outputs": [
    {
     "data": {
      "image/png": "[encoded data removed]",
      "text/plain": [
       "<Figure size 432x288 with 1 Axes>"
      ]
     },
     "metadata": {
      "needs_background": "light"
     },
     "output_type": "display_data"
    }
   ],
   "source": [
    "U_vac_eval = [U_vac([x, 0.0, 0.0]) for x in r_x]\n",
    "plt.plot(r_x, U_vac_eval)\n",
    "plt.show()"
   ]
  },
  {
   "cell_type": "code",
   "execution_count": 14,
   "id": "430056d8-e9ad-4d8f-804d-32ea48fc8f1c",
   "metadata": {},
   "outputs": [],
   "source": [
    "grad_perm =vp.gradient(oper=D_abgv, inp=lin_perm_tree)\n",
    "grad_U_vac = vp.gradient(oper=D_abgv, inp=U_vac)"
   ]
  },
  {
   "cell_type": "code",
   "execution_count": 15,
   "id": "b8364602-d983-42d6-891c-1a1c5d48b14b",
   "metadata": {
    "tags": []
   },
   "outputs": [],
   "source": [
    "def dot (A, B):\n",
    "    out_vec = []\n",
    "    for A_i, B_i in zip(A, B):\n",
    "        out_vec.append(A_i*B_i)\n",
    "        A_i.clear()\n",
    "        B_i.clear()\n",
    "    out_tree = vp.sum(out_vec)\n",
    "    \n",
    "    return out_tree"
   ]
  },
  {
   "cell_type": "code",
   "execution_count": 16,
   "id": "ad0b4183-7f28-43f1-884d-e75f7abaf14e",
   "metadata": {},
   "outputs": [],
   "source": [
    "dot_tree = dot(grad_perm, grad_U_vac)"
   ]
  },
  {
   "cell_type": "code",
   "execution_count": 17,
   "id": "7d1c4c9d-8a5d-4e20-97f7-fd0e9ce8495a",
   "metadata": {},
   "outputs": [],
   "source": [
    "gamma_n = (1/(4*np.pi))*(lin_perm_tree**(-1.0))*dot_tree # zero-th gamma"
   ]
  },
  {
   "cell_type": "code",
   "execution_count": 20,
   "id": "c3b8e458-9712-49c1-a9ab-8eaffca9d22e",
   "metadata": {},
   "outputs": [
    {
     "data": {
      "text/plain": [
       "[<matplotlib.lines.Line2D at 0x7f948d709810>]"
      ]
     },
     "execution_count": 20,
     "metadata": {},
     "output_type": "execute_result"
    },
    {
     "data": {
      "image/png": "[encoded data removed]",
      "text/plain": [
       "<Figure size 432x288 with 1 Axes>"
      ]
     },
     "metadata": {
      "needs_background": "light"
     },
     "output_type": "display_data"
    }
   ],
   "source": [
    "gamma_eval = [gamma_n([x, 0.0, 0.0]) for x in r_x]\n",
    "plt.plot(r_x, eps_eval, \"g\")\n",
    "plt.plot(r_x, U_vac_eval, \"b\")\n",
    "plt.plot(r_x, gamma_eval, \"r\")"
   ]
  },
  {
   "cell_type": "code",
   "execution_count": 21,
   "id": "12937a01-4c50-4194-b3be-cf0353ddbd13",
   "metadata": {},
   "outputs": [],
   "source": [
    "rho_eff = rho*(lin_perm_tree**(-1.0))\n",
    "poiss_tree = rho_eff \n",
    "poiss_tree += gamma_n"
   ]
  },
  {
   "cell_type": "code",
   "execution_count": 23,
   "id": "2b829266-1e50-4636-a3e6-3ea8650cb469",
   "metadata": {},
   "outputs": [],
   "source": [
    "U_n = Poissop(poiss_tree) #zero-th  total potential"
   ]
  },
  {
   "cell_type": "code",
   "execution_count": 24,
   "id": "7a064602-5dab-48b9-9dc7-3509da9ec70a",
   "metadata": {},
   "outputs": [
    {
     "data": {
      "image/png": "[encoded data removed]",
      "text/plain": [
       "<Figure size 432x288 with 1 Axes>"
      ]
     },
     "metadata": {
      "needs_background": "light"
     },
     "output_type": "display_data"
    }
   ],
   "source": [
    "U_n_eval = [U_n([x, 0.0, 0.0]) for x in r_x]\n",
    "plt.plot(r_x, U_n_eval)\n",
    "plt.show()"
   ]
  },
  {
   "cell_type": "code",
   "execution_count": 25,
   "id": "95dbef8d-3111-4241-b1a7-7d86fc7b3a79",
   "metadata": {},
   "outputs": [],
   "source": [
    "U_r_n = U_n\n",
    "U_r_n -= U_vac"
   ]
  },
  {
   "cell_type": "code",
   "execution_count": 26,
   "id": "f45fb43f-99ac-4b71-8912-3bd13deb959b",
   "metadata": {},
   "outputs": [
    {
     "data": {
      "image/png": "[encoded data removed]",
      "text/plain": [
       "<Figure size 432x288 with 1 Axes>"
      ]
     },
     "metadata": {
      "needs_background": "light"
     },
     "output_type": "display_data"
    }
   ],
   "source": [
    "U_r_n_eval = [U_r_n([x, 0.0, 0.0]) for x in r_x]\n",
    "plt.plot(r_x, U_r_n_eval, \"r\")\n",
    "# plt.plot(r_x, U_vac_eval, \"b\")\n",
    "# plt.plot(r_x, U_n_eval, \"g\")\n",
    "plt.show()"
   ]
  },
  {
   "cell_type": "code",
   "execution_count": 27,
   "id": "be76c7af-a82b-4719-bcff-c7679acbf08d",
   "metadata": {},
   "outputs": [
    {
     "data": {
      "text/plain": [
       "0.022660993911377034"
      ]
     },
     "execution_count": 27,
     "metadata": {},
     "output_type": "execute_result"
    }
   ],
   "source": [
    "diff = U_r_n.squaredNorm()  # this is U_r_n - U_r_nm1, but since this started as zero we should just not think about it too much\n",
    "diff"
   ]
  },
  {
   "cell_type": "markdown",
   "id": "8c45c6b1-cce5-4bcf-a91a-553a6b05e9ff",
   "metadata": {},
   "source": [
    "# Dont run the next cell"
   ]
  },
  {
   "cell_type": "code",
   "execution_count": null,
   "id": "714488b1-fe19-45b2-9a05-7386dcc3a8aa",
   "metadata": {},
   "outputs": [],
   "source": [
    "# construct new rho and rho_eff\n",
    "# needs only to be updted outside the loop\n",
    "rho = nuc_dens + phi_n**2\n",
    "rho_eff = rho*(lin_perm_tree**(-1.0))\n",
    "\n",
    "i = 0\n",
    "update = 1.0e-4 # this should be the orbital update\n",
    "while((i < 10) and (diff > update)) :   #set a precision threshold"
   ]
  },
  {
   "cell_type": "markdown",
   "id": "651b1959-f1e3-45fd-afb1-0a57964a5c68",
   "metadata": {},
   "source": [
    "# Dont run the prevoius cell"
   ]
  },
  {
   "cell_type": "code",
   "execution_count": 28,
   "id": "fffbe3a2-161e-40e1-8777-59f5e159f1ae",
   "metadata": {},
   "outputs": [],
   "source": [
    "# construct new gamma from U_n and lin_perm_tree (which is already differentiated)'\n",
    "grad_U_nm1 = vp.gradient(oper=D_abgv , inp=U_n) # take gradient from previous iteration"
   ]
  },
  {
   "cell_type": "code",
   "execution_count": null,
   "id": "b68f9e60-f166-41ec-8c28-72eeeeb25a29",
   "metadata": {},
   "outputs": [],
   "source": [
    "dot_tree = dot(grad_perm, grad_U_nm1)"
   ]
  },
  {
   "cell_type": "code",
   "execution_count": 26,
   "id": "6c0e5a7e-7595-435c-9dea-f90a66223d5a",
   "metadata": {},
   "outputs": [],
   "source": [
    "gamma_n = (1/(4*np.pi))*(lin_perm_tree**(-1.0))*dot_tree"
   ]
  },
  {
   "cell_type": "code",
   "execution_count": 27,
   "id": "100519a9-51f4-4c50-a676-b47d4233abad",
   "metadata": {
    "collapsed": true,
    "jupyter": {
     "outputs_hidden": true
    },
    "tags": []
   },
   "outputs": [
    {
     "name": "stdout",
     "output_type": "stream",
     "text": [
      "Help on class FunctionTree in module vampyr._vampyr.vampyr3d:\n",
      "\n",
      "class FunctionTree(MWTree, RepresentableFunction)\n",
      " |  Method resolution order:\n",
      " |      FunctionTree\n",
      " |      MWTree\n",
      " |      RepresentableFunction\n",
      " |      pybind11_builtins.pybind11_object\n",
      " |      builtins.object\n",
      " |  \n",
      " |  Methods defined here:\n",
      " |  \n",
      " |  __add__(...)\n",
      " |      __add__(self: vampyr._vampyr.vampyr3d.FunctionTree, arg0: vampyr._vampyr.vampyr3d.FunctionTree) -> vampyr._vampyr.vampyr3d.FunctionTree\n",
      " |  \n",
      " |  __call__(...)\n",
      " |      __call__(self: vampyr._vampyr.vampyr3d.FunctionTree, arg0: List[float[3]]) -> float\n",
      " |  \n",
      " |  __iadd__(...)\n",
      " |      __iadd__(self: vampyr._vampyr.vampyr3d.FunctionTree, arg0: vampyr._vampyr.vampyr3d.FunctionTree) -> vampyr._vampyr.vampyr3d.FunctionTree\n",
      " |  \n",
      " |  __imul__(...)\n",
      " |      __imul__(*args, **kwargs)\n",
      " |      Overloaded function.\n",
      " |      \n",
      " |      1. __imul__(self: vampyr._vampyr.vampyr3d.FunctionTree, arg0: float) -> vampyr._vampyr.vampyr3d.FunctionTree\n",
      " |      \n",
      " |      2. __imul__(self: vampyr._vampyr.vampyr3d.FunctionTree, arg0: vampyr._vampyr.vampyr3d.FunctionTree) -> vampyr._vampyr.vampyr3d.FunctionTree\n",
      " |  \n",
      " |  __init__(...)\n",
      " |      __init__(self: vampyr._vampyr.vampyr3d.FunctionTree, mra: mrcpp::MultiResolutionAnalysis<3>, name: str = 'nn') -> None\n",
      " |  \n",
      " |  __ipow__(...)\n",
      " |      __ipow__(self: vampyr._vampyr.vampyr3d.FunctionTree, arg0: float) -> vampyr._vampyr.vampyr3d.FunctionTree\n",
      " |  \n",
      " |  __isub__(...)\n",
      " |      __isub__(self: vampyr._vampyr.vampyr3d.FunctionTree, arg0: vampyr._vampyr.vampyr3d.FunctionTree) -> vampyr._vampyr.vampyr3d.FunctionTree\n",
      " |  \n",
      " |  __itruediv__(...)\n",
      " |      __itruediv__(self: vampyr._vampyr.vampyr3d.FunctionTree, arg0: float) -> vampyr._vampyr.vampyr3d.FunctionTree\n",
      " |  \n",
      " |  __mul__(...)\n",
      " |      __mul__(*args, **kwargs)\n",
      " |      Overloaded function.\n",
      " |      \n",
      " |      1. __mul__(self: vampyr._vampyr.vampyr3d.FunctionTree, arg0: float) -> vampyr._vampyr.vampyr3d.FunctionTree\n",
      " |      \n",
      " |      2. __mul__(self: vampyr._vampyr.vampyr3d.FunctionTree, arg0: vampyr._vampyr.vampyr3d.FunctionTree) -> vampyr._vampyr.vampyr3d.FunctionTree\n",
      " |  \n",
      " |  __neg__(...)\n",
      " |      __neg__(self: vampyr._vampyr.vampyr3d.FunctionTree) -> vampyr._vampyr.vampyr3d.FunctionTree\n",
      " |  \n",
      " |  __pos__(...)\n",
      " |      __pos__(self: vampyr._vampyr.vampyr3d.FunctionTree) -> vampyr._vampyr.vampyr3d.FunctionTree\n",
      " |  \n",
      " |  __pow__(...)\n",
      " |      __pow__(self: vampyr._vampyr.vampyr3d.FunctionTree, arg0: float) -> vampyr._vampyr.vampyr3d.FunctionTree\n",
      " |  \n",
      " |  __rmul__(...)\n",
      " |      __rmul__(self: vampyr._vampyr.vampyr3d.FunctionTree, arg0: float) -> vampyr._vampyr.vampyr3d.FunctionTree\n",
      " |  \n",
      " |  __sub__(...)\n",
      " |      __sub__(self: vampyr._vampyr.vampyr3d.FunctionTree, arg0: vampyr._vampyr.vampyr3d.FunctionTree) -> vampyr._vampyr.vampyr3d.FunctionTree\n",
      " |  \n",
      " |  __truediv__(...)\n",
      " |      __truediv__(self: vampyr._vampyr.vampyr3d.FunctionTree, arg0: float) -> vampyr._vampyr.vampyr3d.FunctionTree\n",
      " |  \n",
      " |  crop(...)\n",
      " |      crop(self: vampyr._vampyr.vampyr3d.FunctionTree, prec: float, abs_prec: bool = False) -> vampyr._vampyr.vampyr3d.FunctionTree\n",
      " |  \n",
      " |  deepCopy(...)\n",
      " |      deepCopy(self: vampyr._vampyr.vampyr3d.FunctionTree) -> vampyr._vampyr.vampyr3d.FunctionTree\n",
      " |  \n",
      " |  deleteGenerated(...)\n",
      " |      deleteGenerated(self: vampyr._vampyr.vampyr3d.FunctionTree) -> None\n",
      " |  \n",
      " |  integrate(...)\n",
      " |      integrate(self: vampyr._vampyr.vampyr3d.FunctionTree) -> float\n",
      " |  \n",
      " |  loadTree(...)\n",
      " |      loadTree(self: vampyr._vampyr.vampyr3d.FunctionTree, filename: str) -> None\n",
      " |  \n",
      " |  nGenNodes(...)\n",
      " |      nGenNodes(self: vampyr._vampyr.vampyr3d.FunctionTree) -> int\n",
      " |  \n",
      " |  normalize(...)\n",
      " |      normalize(self: vampyr._vampyr.vampyr3d.FunctionTree) -> None\n",
      " |  \n",
      " |  saveTree(...)\n",
      " |      saveTree(self: vampyr._vampyr.vampyr3d.FunctionTree, filename: str) -> None\n",
      " |  \n",
      " |  ----------------------------------------------------------------------\n",
      " |  Methods inherited from MWTree:\n",
      " |  \n",
      " |  MRA(...)\n",
      " |      MRA(self: vampyr._vampyr.vampyr3d.MWTree) -> mrcpp::MultiResolutionAnalysis<3>\n",
      " |  \n",
      " |  __str__(...)\n",
      " |      __str__(self: vampyr._vampyr.vampyr3d.MWTree) -> str\n",
      " |  \n",
      " |  clear(...)\n",
      " |      clear(self: vampyr._vampyr.vampyr3d.MWTree) -> None\n",
      " |  \n",
      " |  depth(...)\n",
      " |      depth(self: vampyr._vampyr.vampyr3d.MWTree) -> int\n",
      " |  \n",
      " |  fetchEndNode(...)\n",
      " |      fetchEndNode(self: vampyr._vampyr.vampyr3d.MWTree, arg0: int) -> mrcpp::MWNode<3>\n",
      " |  \n",
      " |  fetchNode(...)\n",
      " |      fetchNode(self: vampyr._vampyr.vampyr3d.MWTree, arg0: mrcpp::NodeIndex<3>) -> mrcpp::MWNode<3>\n",
      " |  \n",
      " |  fetchRootNode(...)\n",
      " |      fetchRootNode(self: vampyr._vampyr.vampyr3d.MWTree, arg0: int) -> mrcpp::MWNode<3>\n",
      " |  \n",
      " |  nEndNodes(...)\n",
      " |      nEndNodes(self: vampyr._vampyr.vampyr3d.MWTree) -> int\n",
      " |  \n",
      " |  nNodes(...)\n",
      " |      nNodes(self: vampyr._vampyr.vampyr3d.MWTree) -> int\n",
      " |  \n",
      " |  nRootNodes(...)\n",
      " |      nRootNodes(self: vampyr._vampyr.vampyr3d.MWTree) -> int\n",
      " |  \n",
      " |  name(...)\n",
      " |      name(self: vampyr._vampyr.vampyr3d.MWTree) -> str\n",
      " |  \n",
      " |  norm(...)\n",
      " |      norm(self: vampyr._vampyr.vampyr3d.MWTree) -> float\n",
      " |  \n",
      " |  rootScale(...)\n",
      " |      rootScale(self: vampyr._vampyr.vampyr3d.MWTree) -> int\n",
      " |  \n",
      " |  setName(...)\n",
      " |      setName(self: vampyr._vampyr.vampyr3d.MWTree, arg0: str) -> None\n",
      " |  \n",
      " |  setZero(...)\n",
      " |      setZero(self: vampyr._vampyr.vampyr3d.MWTree) -> None\n",
      " |  \n",
      " |  squaredNorm(...)\n",
      " |      squaredNorm(self: vampyr._vampyr.vampyr3d.MWTree) -> float\n",
      " |  \n",
      " |  ----------------------------------------------------------------------\n",
      " |  Static methods inherited from pybind11_builtins.pybind11_object:\n",
      " |  \n",
      " |  __new__(*args, **kwargs) from pybind11_builtins.pybind11_type\n",
      " |      Create and return a new object.  See help(type) for accurate signature.\n",
      "\n"
     ]
    }
   ],
   "source": [
    "help(vp.FunctionTree)"
   ]
  },
  {
   "cell_type": "code",
   "execution_count": 31,
   "id": "9064cd39-6fc2-4d7f-8837-4abd68b04500",
   "metadata": {},
   "outputs": [],
   "source": [
    "# make poiss_tree\n",
    "poiss_tree.clear()"
   ]
  },
  {
   "cell_type": "code",
   "execution_count": 32,
   "id": "3c98a5f6-faa4-44a4-bed8-1a9673413c6d",
   "metadata": {},
   "outputs": [],
   "source": [
    "poiss_tree = rho_eff + gamma_n"
   ]
  },
  {
   "cell_type": "code",
   "execution_count": null,
   "id": "5017d887-1308-4c76-bcc4-66c946b57af7",
   "metadata": {},
   "outputs": [],
   "source": [
    "# solve poisson equation\n",
    "U_n = Poissop(poiss_tree)"
   ]
  },
  {
   "cell_type": "code",
   "execution_count": null,
   "id": "2ca0bb97-1a02-48d1-95bf-db171ce4e04a",
   "metadata": {},
   "outputs": [],
   "source": [
    "# extract reaction potential for convergence check\n",
    "diff_U_r_n = (U_n - U_vac) - U_r_n\n",
    "diff = diff_U_r_n.squaredNorm()\n",
    "print(diff)\n",
    "U_r_n += diff_U_r_n\n",
    "    "
   ]
  },
  {
   "cell_type": "code",
   "execution_count": 4,
   "id": "0f51b3ef-2cc8-45ae-9d1a-a324a7a0f82d",
   "metadata": {},
   "outputs": [
    {
     "name": "stdout",
     "output_type": "stream",
     "text": [
      "iteration: 0   Energy: -0.3538784995815114   Norm: 1.0169878647963155   Update: 0.36587448758324526\n",
      "iteration: 1   Energy: -0.4558627793222508   Norm: 1.274389379298624   Update: 0.3761830430773526\n",
      "iteration: 2   Energy: -0.49658385257177473   Norm: 1.0741995283703154   Update: 0.08944544671888756\n",
      "iteration: 3   Energy: -0.4999674305621769   Norm: 1.0065411823526482   Update: 0.008474863789213619\n",
      "iteration: 4   Energy: -0.5000029718920685   Norm: 1.0007449220333176   Update: 0.0014373456087580158\n",
      "iteration: 5   Energy: -0.5000046219839581   Norm: 1.0003471833910549   Update: 0.0006592977194035593\n"
     ]
    },
    {
     "data": {
      "image/png": "[encoded data removed]",
      "text/plain": [
       "<Figure size 432x288 with 1 Axes>"
      ]
     },
     "metadata": {
      "needs_background": "light"
     },
     "output_type": "display_data"
    }
   ],
   "source": [
    "# Minimization loop\n",
    "thrs = 1.0e-3\n",
    "update = 1.0\n",
    "i = 0\n",
    "while (update > thrs or i > 100):\n",
    "    # Prepare Helmholtz operator\n",
    "    mu = np.sqrt(-2*E_n)\n",
    "    H = vp.HelmholtzOperator(mra=MRA, exp=mu, prec=epsilon)\n",
    "    \n",
    "    # Apply Helmholtz operator\n",
    "    Vphi = V_nuc * phi_n\n",
    "    phi_np1 = -2*H(Vphi)\n",
    "    norm = phi_np1.norm()\n",
    "    \n",
    "    # Compute orbital and energy updates\n",
    "    dPhi_n = phi_np1 - phi_n\n",
    "    dE_n = vp.dot(Vphi, dPhi_n)/phi_np1.squaredNorm()\n",
    "    update = dPhi_n.norm()\n",
    "    \n",
    "    # Prepare for next iteration\n",
    "    E_n += dE_n\n",
    "    phi_n += dPhi_n\n",
    "    phi_n.normalize()\n",
    "    phi_n.crop(epsilon)\n",
    "    \n",
    "    phi_n_plt = [phi_n([x, 0.0, 0.0]) for x in r_x]\n",
    "    plt.plot(r_x, phi_n_plt)\n",
    "    \n",
    "    print(\"iteration: {}   Energy: {}   Norm: {}   Update: {}\".format(i, E_n, norm, update))\n",
    "    i += 1\n",
    "\n",
    "plt.show()"
   ]
  },
  {
   "cell_type": "code",
   "execution_count": null,
   "id": "9d10cd78-54b8-455b-b2fb-1a3b7af36fc6",
   "metadata": {},
   "outputs": [],
   "source": []
  },
  {
   "cell_type": "code",
   "execution_count": null,
   "id": "fa522aaa-007e-41de-ac37-21a6fa4f3d2b",
   "metadata": {},
   "outputs": [],
   "source": []
  },
  {
   "cell_type": "code",
   "execution_count": null,
   "id": "9b90ecd7-4a92-4ebe-bb6c-35c68332258a",
   "metadata": {},
   "outputs": [],
   "source": []
  },
  {
   "cell_type": "code",
   "execution_count": null,
   "id": "faf7a6c0-8c02-453f-90f2-b795dadb9020",
   "metadata": {},
   "outputs": [],
   "source": []
  },
  {
   "cell_type": "code",
   "execution_count": null,
   "id": "92e13a31-8357-49a3-95dc-adb3a6a66c32",
   "metadata": {},
   "outputs": [],
   "source": []
  },
  {
   "cell_type": "code",
   "execution_count": 31,
   "id": "9c18040d-ed74-4034-bb7b-affb7392737e",
   "metadata": {},
   "outputs": [
    {
     "data": {
      "text/plain": [
       "<__main__.element at 0x7f4091dfcaf0>"
      ]
     },
     "execution_count": 31,
     "metadata": {},
     "output_type": "execute_result"
    }
   ],
   "source": [
    "H = element()\n",
    "H"
   ]
  },
  {
   "cell_type": "code",
   "execution_count": null,
   "id": "63b3ab59-ffdf-4a9d-aa43-e5e528ba9e39",
   "metadata": {},
   "outputs": [],
   "source": []
  }
 ],
 "metadata": {
  "kernelspec": {
   "display_name": "Python 3 (ipykernel)",
   "language": "python",
   "name": "python3"
  },
  "language_info": {
   "codemirror_mode": {
    "name": "ipython",
    "version": 3
   },
   "file_extension": ".py",
   "mimetype": "text/x-python",
   "name": "python",
   "nbconvert_exporter": "python",
   "pygments_lexer": "ipython3",
   "version": "3.10.1"
  }
 },
 "nbformat": 4,
 "nbformat_minor": 5
}
